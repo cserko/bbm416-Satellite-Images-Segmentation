{
 "cells": [
  {
   "cell_type": "code",
   "execution_count": 3,
   "metadata": {},
   "outputs": [
    {
     "name": "stdout",
     "output_type": "stream",
     "text": [
      "meta loaded!\n"
     ]
    }
   ],
   "source": [
    "import time\n",
    "import os\n",
    "from IPython.display import clear_output\n",
    "\n",
    "from read_data import system_load\n",
    "from dataset import load_dataset\n",
    "from classes import class_list\n",
    "\n",
    "import torch\n",
    "import torchvision\n",
    "\n",
    "meta, root_dir = system_load(init=False)\n",
    "datasets, dataset_lengths = load_dataset(meta, root_dir, include=[73, 18, 23, 19], workers=0)\n",
    "classes = class_list()"
   ]
  },
  {
   "cell_type": "code",
   "execution_count": null,
   "metadata": {},
   "outputs": [],
   "source": [
    "def printm():\n",
    "    try:\n",
    "        import psutil\n",
    "        import humanize\n",
    "        import os\n",
    "        import GPUtil as GPU\n",
    "    except ModuleNotFoundError as e:\n",
    "        print(e)\n",
    "        !ln -sf /opt/bin/nvidia-smi /usr/bin/nvidia-smi\n",
    "        !pip install gputil\n",
    "        !pip install psutil\n",
    "        !pip install humanize\n",
    "    finally:\n",
    "        import psutil\n",
    "        import humanize\n",
    "        import os\n",
    "        import GPUtil as GPU\n",
    "        \n",
    "    clear_output()\n",
    "    GPUs = GPU.getGPUs()\n",
    "    # XXX: only one GPU on Colab and isn’t guaranteed\n",
    "    gpu = GPUs[0]\n",
    "\n",
    "    process = psutil.Process(os.getpid())\n",
    "    print(\"Gen RAM Free: \" + humanize.naturalsize(psutil.virtual_memory().available), \" |     Proc size: \" + humanize.naturalsize(process.memory_info().rss))\n",
    "    print(\"GPU RAM Free: {0:.0f}MB | Used: {1:.0f}MB | Util {2:3.0f}% | Total     {3:.0f}MB\".format(gpu.memoryFree, gpu.memoryUsed, gpu.memoryUtil*100, gpu.memoryTotal))\n"
   ]
  },
  {
   "cell_type": "code",
   "execution_count": 7,
   "metadata": {},
   "outputs": [],
   "source": [
    "def avg_acc(sozluk):\n",
    "    return np.average(np.array([i for i in sozluk.values()]))"
   ]
  },
  {
   "cell_type": "code",
   "execution_count": 3,
   "metadata": {},
   "outputs": [],
   "source": [
    "def train_model(model, dataloaders, dataset_lengths, optimizer, scheduler, num_epochs, device=\"cpu\"):\n",
    "    print(\"start training. . .\")\n",
    "    since = time.time()\n",
    "    \n",
    "    #loss_values = {'loss_classifier': [], 'loss_box_reg': [], 'loss_objectness': [], 'loss_rpn_box_reg': []}\n",
    "    loss_values = []\n",
    "    #acc_values = {'acc_classifier': [], 'acc_box_reg': [], 'acc_objectness': [], 'acc_rpn_box_reg': []}\n",
    "    #best_model_wts = copy.deepcopy(model.state_dict())\n",
    "    #best_acc = 0.0\n",
    "\n",
    "    for epoch in range(num_epochs):\n",
    "        print('Epoch {}/{}'.format(epoch, num_epochs - 1))\n",
    "        print('-' * 10)\n",
    "\n",
    "        # Each epoch has a training and validation phase\n",
    "        for phase in ['train', 'validate']:\n",
    "            if phase == 'train':\n",
    "                model.train()  # Set model to training mode\n",
    "            else:\n",
    "                model.eval()   # Set model to evaluate mode\n",
    "\n",
    "            running_loss = 0.0\n",
    "            running_corrects = 0\n",
    "\n",
    "            # Iterate over data.\n",
    "            try:\n",
    "                for image, targets in dataloaders[phase]:\n",
    "                    '''Burası değiştirilecek'''\n",
    "                    images = image.to(device)\n",
    "                    targets[\"boxes\"] = targets[\"boxes\"].to(device)\n",
    "                    targets[\"labels\"] = targets[\"labels\"].to(device)\n",
    "                    targets[\"boxes\"].squeeze_()\n",
    "                    targets[\"labels\"].squeeze_()\n",
    "                    targets1 = [{k: v for k, v in targets.items()}]\n",
    "\n",
    "                    # zero the parameter gradients\n",
    "                    optimizer.zero_grad()\n",
    "\n",
    "                    # forward\n",
    "                    # track history if only in train\n",
    "                    with torch.set_grad_enabled(phase == 'train'):\n",
    "                        loss_dict = model(images, targets1)\n",
    "                        losses = sum(loss for loss in loss_dict.values())\n",
    "                        # backward + optimize only if in training phase\n",
    "                        if phase == 'train':\n",
    "                            losses.backward()\n",
    "                            optimizer.step()\n",
    "\n",
    "                    # statistics\n",
    "                    running_loss += losses.item() * inputs.size(0)\n",
    "                    #running_corrects += torch.sum(preds == labels.data)\n",
    "            except IndexError as e:\n",
    "                pass\n",
    "            \n",
    "            if phase == 'train':\n",
    "                scheduler.step()\n",
    "\n",
    "            epoch_loss = running_loss / dataset_lengths[phase]\n",
    "            #epoch_acc = running_corrects.double() / dataset_sizes[phase]\n",
    "            \n",
    "            if phase == \"train\":\n",
    "                loss_values.append(epoch_loss)\n",
    "                #acc_values.append(epoch_acc)\n",
    "\n",
    "            '''\n",
    "            print('{} Loss: {:.4f} Acc: {:.4f}'.format(\n",
    "                phase, epoch_loss, epoch_acc))\n",
    "            '''\n",
    "            print('{} Loss: {:.4f} '.format(\n",
    "                phase, epoch_loss))\n",
    "            \n",
    "            #print(\"loss values: \", loss_values, \"\\naccuracy values: \", acc_values)\n",
    "            # deep copy the model\n",
    "            '''         \n",
    "            if phase == 'validate' and epoch_acc > best_acc:\n",
    "                best_acc = epoch_acc\n",
    "                best_model_wts = copy.deepcopy(model.state_dict())\n",
    "            '''\n",
    "\n",
    "        print()\n",
    "\n",
    "    time_elapsed = time.time() - since\n",
    "    print('Training complete in {:.0f}m {:.0f}s'.format(\n",
    "        time_elapsed // 60, time_elapsed % 60))\n",
    "    '''\n",
    "    print('Best val Acc: {:4f}'.format(best_acc))\n",
    "    '''\n",
    "\n",
    "    # load best model weights\n",
    "    '''\n",
    "    model.load_state_dict(best_model_wts)\n",
    "    '''\n",
    "    print(\"=\"*25)\n",
    "    return model, loss_values\n",
    "    '''    \n",
    "    return model, loss_values, acc_values\n",
    "    '''"
   ]
  },
  {
   "cell_type": "code",
   "execution_count": null,
   "metadata": {},
   "outputs": [],
   "source": [
    "from torchvision.models.detection.faster_rcnn import fasterrcnn_resnet50_fpn\n",
    "\n",
    "from torchvision.models.detection.rpn import AnchorGenerator\n",
    "\n",
    "\n",
    "model = fasterrcnn_resnet50_fpn(pretrained=True)\n",
    "\n",
    "''' Backbone model creation'''\n",
    "\n",
    "backbone = torchvision.models.mobilenet_v2(pretrained=True).features\n",
    "backbone.out_channels = 1280\n",
    "\n",
    "\n",
    "device = torch.device(\"cuda:0\" if torch.cuda.is_available() else \"cpu\")\n",
    "#device = \"cpu\"\n",
    "# move model to the right device\n",
    "model.to(device)\n",
    "# construct an optimizer\n",
    "params = [p for p in model.parameters() if p.requires_grad]\n",
    "optimizer = torch.optim.SGD(params, lr=0.005,momentum=0.9, weight_decay=0.0005)\n",
    "# and a learning rate scheduler\n",
    "lr_scheduler = torch.optim.lr_scheduler.StepLR(optimizer,step_size=3,gamma=0.1)\n",
    "# let's train it for 10 epochs\n",
    "num_epochs = 10"
   ]
  },
  {
   "cell_type": "code",
   "execution_count": null,
   "metadata": {},
   "outputs": [],
   "source": [
    "train_model(model, datasets, dataset_lengths, optimizer, lr_scheduler, num_epochs, device=\"cuda:0\")"
   ]
  },
  {
   "cell_type": "code",
   "execution_count": null,
   "metadata": {},
   "outputs": [],
   "source": []
  },
  {
   "cell_type": "code",
   "execution_count": 1,
   "metadata": {},
   "outputs": [
    {
     "name": "stdout",
     "output_type": "stream",
     "text": [
      "^C\n"
     ]
    }
   ],
   "source": [
    "!python"
   ]
  }
 ],
 "metadata": {
  "kernelspec": {
   "display_name": "Python 3",
   "language": "python",
   "name": "python3"
  },
  "language_info": {
   "codemirror_mode": {
    "name": "ipython",
    "version": 3
   },
   "file_extension": ".py",
   "mimetype": "text/x-python",
   "name": "python",
   "nbconvert_exporter": "python",
   "pygments_lexer": "ipython3",
   "version": "3.8.3"
  }
 },
 "nbformat": 4,
 "nbformat_minor": 4
}
