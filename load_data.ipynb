{
 "cells": [
  {
   "cell_type": "code",
   "execution_count": 1,
   "metadata": {},
   "outputs": [
    {
     "name": "stderr",
     "output_type": "stream",
     "text": [
      "\n",
      "Bad key \"text.kerning_factor\" on line 4 in\n",
      "C:\\Users\\Serkan\\Anaconda3\\envs\\project\\lib\\site-packages\\matplotlib\\mpl-data\\stylelib\\_classic_test_patch.mplstyle.\n",
      "You probably need to get an updated matplotlibrc file from\n",
      "https://github.com/matplotlib/matplotlib/blob/v3.1.3/matplotlibrc.template\n",
      "or from the matplotlib source distribution\n"
     ]
    }
   ],
   "source": [
    "import time\n",
    "import tifffile as tiff\n",
    "import matplotlib.pyplot as plt\n",
    "import geopandas as gpd\n",
    "import os\n",
    "import cv2 as cv\n",
    "import numpy as np\n",
    "import pandas as pd\n",
    "import torch\n",
    "from torch.utils.data import Dataset, DataLoader\n",
    "from torchvision import transforms, utils\n",
    "from PIL import Image\n",
    "import pickle"
   ]
  },
  {
   "cell_type": "code",
   "execution_count": 2,
   "metadata": {},
   "outputs": [],
   "source": [
    "def create_meta(df):\n",
    "    img_names = df[\"image_id\"]\n",
    "    img_bound = df[\"bounds_imcoords\"]\n",
    "    class_names = df[\"type_id\"]\n",
    "    dir = os.path.join(os.getcwd(), \"train_images/\")\n",
    "    df_new = pd.DataFrame(df[[\"image_id\", \"bounds_imcoords\", \"type_id\"]])\n",
    "\n",
    "    return df_new"
   ]
  },
  {
   "cell_type": "code",
   "execution_count": 3,
   "metadata": {},
   "outputs": [],
   "source": [
    "def save_obj(obj, name ):\n",
    "    '''args::obj, name'''\n",
    "    with open(name + '.pkl', 'wb') as f:\n",
    "        pickle.dump(obj, f, pickle.HIGHEST_PROTOCOL)\n",
    "\n",
    "def load_obj(name ):\n",
    "    with open(name + '.pkl', 'rb') as f:\n",
    "        return pickle.load(f)"
   ]
  },
  {
   "cell_type": "code",
   "execution_count": 51,
   "metadata": {},
   "outputs": [],
   "source": [
    "def get_masks(path, df):\n",
    "    curr = None\n",
    "    boxes = {}\n",
    "    for index, row in df.iterrows():\n",
    "        img_path = os.path.join(path, row[0])\n",
    "        if curr != row[0]:\n",
    "            img = cv.imread(img_path)\n",
    "            curr = row[0]\n",
    "            boxes[curr] = []\n",
    "        try:\n",
    "            coord = [int(c) for c in row[1].split(',')] \n",
    "            #color = (255, 0, 0)\n",
    "            #thickness = 2\n",
    "            #cv.rectangle(img, (coord[0], coord[1]), (coord[2], coord[3]), color, thickness)\n",
    "            box = img[coord[1]:coord[3], coord[0]:coord[2], :]\n",
    "            box_cor = [coord[1], coord[3], coord[0], coord[2]]\n",
    "            boxes[curr].append([box_cor, row[2]])\n",
    "            \n",
    "        except TypeError as e:\n",
    "            continue\n",
    "    return boxes"
   ]
  },
  {
   "cell_type": "code",
   "execution_count": 8,
   "metadata": {},
   "outputs": [],
   "source": [
    "df_file = gpd.read_file(\"xView_train.geojson\") # arkadaşın yüklenmesi uzun sürüyor.\n"
   ]
  },
  {
   "cell_type": "code",
   "execution_count": 48,
   "metadata": {},
   "outputs": [],
   "source": [
    "def system_load(init=False, geojson_file=\"xView_train.geojson\"):\n",
    "    root_dir = os.path.abspath(os.getcwd())\n",
    "    if init:\n",
    "        print(\"read geojson. . . \")\n",
    "        print(\"completed!\")\n",
    "        print(\"create csv. . .\")\n",
    "        meta = create_meta(df_file)\n",
    "        #print(meta)\n",
    "        print(\"SUCCESS!\")\n",
    "        boxes = get_masks(os.path.join(root_dir,\"train_images\"), meta)\n",
    "        save_obj(boxes, \"boxes\")\n",
    "    else:\n",
    "        boxes = load_obj(\"boxes\")\n",
    "        print(\"meta loaded!\")\n",
    "    \n",
    "    return (boxes, root_dir)\n",
    "    "
   ]
  },
  {
   "cell_type": "code",
   "execution_count": null,
   "metadata": {},
   "outputs": [
    {
     "name": "stdout",
     "output_type": "stream",
     "text": [
      "read geojson. . . \n",
      "completed!\n",
      "create csv. . .\n",
      "SUCCESS!\n"
     ]
    }
   ],
   "source": [
    "meta, root_dir = system_load(init=True)"
   ]
  },
  {
   "cell_type": "code",
   "execution_count": 30,
   "metadata": {},
   "outputs": [
    {
     "ename": "NameError",
     "evalue": "name 'boxes' is not defined",
     "output_type": "error",
     "traceback": [
      "\u001b[1;31m---------------------------------------------------------------------------\u001b[0m",
      "\u001b[1;31mNameError\u001b[0m                                 Traceback (most recent call last)",
      "\u001b[1;32m<ipython-input-30-c8ba014f1560>\u001b[0m in \u001b[0;36m<module>\u001b[1;34m\u001b[0m\n\u001b[1;32m----> 1\u001b[1;33m \u001b[0mboxes\u001b[0m\u001b[1;33m\u001b[0m\u001b[1;33m\u001b[0m\u001b[0m\n\u001b[0m",
      "\u001b[1;31mNameError\u001b[0m: name 'boxes' is not defined"
     ]
    }
   ],
   "source": [
    "meta"
   ]
  },
  {
   "cell_type": "code",
   "execution_count": null,
   "metadata": {},
   "outputs": [],
   "source": []
  }
 ],
 "metadata": {
  "kernelspec": {
   "display_name": "Python 3",
   "language": "python",
   "name": "python3"
  },
  "language_info": {
   "codemirror_mode": {
    "name": "ipython",
    "version": 3
   },
   "file_extension": ".py",
   "mimetype": "text/x-python",
   "name": "python",
   "nbconvert_exporter": "python",
   "pygments_lexer": "ipython3",
   "version": "3.8.3"
  }
 },
 "nbformat": 4,
 "nbformat_minor": 4
}
