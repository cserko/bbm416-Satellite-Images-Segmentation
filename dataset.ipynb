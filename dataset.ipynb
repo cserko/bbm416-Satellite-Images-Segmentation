{
 "cells": [
  {
   "cell_type": "code",
   "execution_count": 2,
   "metadata": {},
   "outputs": [
    {
     "name": "stdout",
     "output_type": "stream",
     "text": [
      "meta loaded!\n"
     ]
    }
   ],
   "source": [
    "import time\n",
    "import os\n",
    "import torch\n",
    "from torch.utils.data import Dataset, DataLoader\n",
    "from torchvision import transforms, utils\n",
    "from PIL import Image\n",
    "import matplotlib.pyplot as plt\n",
    "import numpy as np\n",
    "import pandas as pd\n",
    "\n",
    "\n",
    "from read_data import system_load\n",
    "meta, root_dir = system_load(init=False)"
   ]
  },
  {
   "cell_type": "code",
   "execution_count": 7,
   "metadata": {},
   "outputs": [],
   "source": [
    "class X_View_FasterRCNN(Dataset):\n",
    "    def __init__(self, meta, root_dir, transforms=None):\n",
    "        self.meta = meta\n",
    "        self.root = root_dir\n",
    "        self.transforms = transforms\n",
    "        self.meta_keys = list(meta.keys())\n",
    "\n",
    "    def __getitem__(self, idx):\n",
    "        # load images ad masks\n",
    "        img_name = self.meta_keys[idx]\n",
    "        img_path = os.path.join(self.root, \"train_images\", img_name)\n",
    "        img = Image.open(img_path).convert(\"RGB\")\n",
    "\n",
    "        boxes = []\n",
    "        labels = []\n",
    "        img_meta = meta[img_name]\n",
    "        for i in range(len(img_meta)):\n",
    "            #print(\"box:\", img_meta[i][0], \"label\", img_meta[i][1])\n",
    "            boxes.append(img_meta[i][0])\n",
    "            labels.append(img_meta[i][1])\n",
    "        # convert everything into a torch.Tensor\n",
    "        boxes = torch.as_tensor(boxes, dtype=torch.float32)\n",
    "        # there is only one class\n",
    "        #labels = torch.ones((num_objs,), dtype=torch.int64)\n",
    "\n",
    "        image_id = torch.tensor([idx])\n",
    "        area = (boxes[:, 3] - boxes[:, 1]) * (boxes[:, 2] - boxes[:, 0])\n",
    "        # suppose all instances are not crowd\n",
    "\n",
    "        target = {}\n",
    "        target[\"boxes\"] = boxes\n",
    "        target[\"labels\"] = labels\n",
    "\n",
    "        if self.transforms is not None:\n",
    "            img = self.transforms(img)\n",
    "\n",
    "        return img, target\n",
    "\n",
    "    def __len__(self):\n",
    "        return len(self.meta)"
   ]
  },
  {
   "cell_type": "code",
   "execution_count": 8,
   "metadata": {},
   "outputs": [],
   "source": [
    "def load_dataset():\n",
    "    '''Train'''\n",
    "    #transform\n",
    "    transform = transforms.Compose([\n",
    "        transforms.ToTensor(),\n",
    "        transforms.Normalize([0.485, 0.456, 0.406], [0.229, 0.224, 0.225]),\n",
    "    ])\n",
    "    dataset = X_View_FasterRCNN(meta=meta, root_dir=root_dir, transforms=transform)\n",
    "    train_size = int(len(dataset) * 0.8)\n",
    "    validation_size = int(len(dataset) * 0.1)\n",
    "    test_size = len(dataset) - train_size - validation_size\n",
    "    # this is a risky operation\n",
    "    train, validate, test = torch.utils.data.random_split(dataset, [train_size, validation_size, test_size])\n",
    "    #changing batch_size & workers\n",
    "    loader_train = torch.utils.data.DataLoader(train, batch_size=1, shuffle=True, num_workers=0)\n",
    "    loader_validate = torch.utils.data.DataLoader(validate, batch_size=1, shuffle=True, num_workers=0)\n",
    "    loader_test = torch.utils.data.DataLoader(test, batch_size=1, shuffle=True, num_workers=0)\n",
    "\n",
    "    datasets = {\"train\": loader_train, \"validate\": loader_validate, \"test\": loader_test}\n",
    "    dataset_lengths = {\"train\": len(loader_train), \"validate\": len(loader_validate), \"test\":len(loader_test)}\n",
    "    \n",
    "    return datasets, dataset_lengths\n"
   ]
  }
 ],
 "metadata": {
  "kernelspec": {
   "display_name": "Python 3",
   "language": "python",
   "name": "python3"
  },
  "language_info": {
   "codemirror_mode": {
    "name": "ipython",
    "version": 3
   },
   "file_extension": ".py",
   "mimetype": "text/x-python",
   "name": "python",
   "nbconvert_exporter": "python",
   "pygments_lexer": "ipython3",
   "version": "3.8.3"
  }
 },
 "nbformat": 4,
 "nbformat_minor": 4
}
